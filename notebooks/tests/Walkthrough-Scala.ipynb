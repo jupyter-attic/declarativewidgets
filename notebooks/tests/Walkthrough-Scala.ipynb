{
 "cells": [
  {
   "cell_type": "code",
   "execution_count": 7,
   "metadata": {
    "collapsed": false
   },
   "outputs": [
    {
     "name": "stdout",
     "output_type": "stream",
     "text": [
      "Starting download from http://192.168.99.100:8888/nbextensions/urth_widgets/urth-widgets.jar\n",
      "Finished download of urth-widgets.jar\n"
     ]
    }
   ],
   "source": [
    "// modify to IP and Port of this notebook server\n",
    "%addjar -f http://192.168.99.100:9500/nbextensions/urth_widgets/urth-widgets.jar"
   ]
  },
  {
   "cell_type": "code",
   "execution_count": null,
   "metadata": {
    "collapsed": true
   },
   "outputs": [],
   "source": [
    "import urth.widgets._\n",
    "initWidgets"
   ]
  }
 ],
 "metadata": {
  "kernelspec": {
   "display_name": "Scala 2.10.4",
   "language": "scala",
   "name": "scala"
  },
  "language_info": {
   "name": "scala"
  }
 },
 "nbformat": 4,
 "nbformat_minor": 0
}
