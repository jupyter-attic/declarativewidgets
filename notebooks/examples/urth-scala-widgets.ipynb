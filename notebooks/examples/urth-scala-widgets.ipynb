{
 "cells": [
  {
   "cell_type": "markdown",
   "metadata": {},
   "source": [
    "### Using Urth Widgets in Scala"
   ]
  },
  {
   "cell_type": "code",
   "execution_count": null,
   "metadata": {
    "collapsed": false
   },
   "outputs": [],
   "source": [
    "%%html\n",
    "<link rel=\"stylesheet\" type=\"text/css\" href=\"bcard.css\">"
   ]
  },
  {
   "cell_type": "markdown",
   "metadata": {},
   "source": [
    "Add, import and initialize the widget system:"
   ]
  },
  {
   "cell_type": "code",
   "execution_count": null,
   "metadata": {
    "collapsed": false
   },
   "outputs": [],
   "source": [
    "// modify to IP and Port of this notebook server\n",
    "%addjar http://192.168.99.100:8888/nbexten tsions/urth_widgets/urth-widgets.jar"
   ]
  },
  {
   "cell_type": "code",
   "execution_count": null,
   "metadata": {
    "collapsed": true
   },
   "outputs": [],
   "source": [
    "import urth.widgets._\n",
    "initWidgets"
   ]
  },
  {
   "cell_type": "markdown",
   "metadata": {},
   "source": [
    "Import Polymer elements:"
   ]
  },
  {
   "cell_type": "code",
   "execution_count": null,
   "metadata": {
    "collapsed": false
   },
   "outputs": [],
   "source": [
    "%%html\n",
    "<link rel='import' href='urth_components/paper-slider/paper-slider.html' \n",
    "        is='urth-core-import' package='PolymerElements/paper-slider'>"
   ]
  },
  {
   "cell_type": "markdown",
   "metadata": {},
   "source": [
    "### Function widget"
   ]
  },
  {
   "cell_type": "markdown",
   "metadata": {},
   "source": [
    "#### Def"
   ]
  },
  {
   "cell_type": "code",
   "execution_count": null,
   "metadata": {
    "collapsed": true
   },
   "outputs": [],
   "source": [
    "def math(x: Int, y: Double = 50): Double = x * y"
   ]
  },
  {
   "cell_type": "code",
   "execution_count": null,
   "metadata": {
    "collapsed": false
   },
   "outputs": [],
   "source": [
    "%%html\n",
    "<template is=\"dom-bind\">\n",
    "<urth-core-function ref=\"math\" arg-x=\"{{x}}\" arg-y=\"{{y}}\" result=\"{{res}}\" auto></urth-core-function>\n",
    "    <label>x:</label><paper-slider min=\"10\" max=\"100\" step=\"1\" value=\"{{x}}\"></paper-slider><span>{{x}}</span><br>\n",
    "    <label>y:</label><paper-slider min=\"1\" max=\"100\" step=\"1\" value=\"{{y}}\"></paper-slider><span>{{y}}</span><br>\n",
    "Result: <span>{{res}}</span>\n",
    "</template>"
   ]
  },
  {
   "cell_type": "markdown",
   "metadata": {},
   "source": [
    "#### Val"
   ]
  },
  {
   "cell_type": "code",
   "execution_count": null,
   "metadata": {
    "collapsed": true
   },
   "outputs": [],
   "source": [
    "val fun = (x: Int,  y: Double) => x * y"
   ]
  },
  {
   "cell_type": "code",
   "execution_count": null,
   "metadata": {
    "collapsed": false
   },
   "outputs": [],
   "source": [
    "%%html\n",
    "<template is=\"dom-bind\">\n",
    "<urth-core-function id=\"test\" ref=\"fun\" arg-x=\"{{x}}\" arg-y=\"{{y}}\" result='{{res}}' auto></urth-core-function>\n",
    "    <label>x:</label><paper-slider min=\"10\" max=\"100\" step=\"1\" value=\"{{x}}\"></paper-slider><span>{{x}}</span><br>\n",
    "    <label>y:</label><paper-slider min=\"1\" max=\"10\" step=\"0.1\" value=\"{{y}}\"></paper-slider><span>{{y}}</span><br>\n",
    "    Result: <span>{{res}}</span>\n",
    "</template>"
   ]
  },
  {
   "cell_type": "markdown",
   "metadata": {},
   "source": [
    "Note that the function below will not get automatically invoked after the ```<urth-core-function>``` is created since the arguments are not set:"
   ]
  },
  {
   "cell_type": "code",
   "execution_count": null,
   "metadata": {
    "collapsed": true
   },
   "outputs": [],
   "source": [
    "def moreMath(x: Int, y: Double) = x * y"
   ]
  },
  {
   "cell_type": "code",
   "execution_count": null,
   "metadata": {
    "collapsed": false
   },
   "outputs": [],
   "source": [
    "%%html\n",
    "<template is=\"dom-bind\">\n",
    "    <urth-core-function ref=\"moreMath\" args=\"{{args}}\" result=\"{{res}}\" auto></urth-core-function>\n",
    "    x: <input type=\"text\" value=\"{{args.x::change}}\"></input>\n",
    "    y: <input type=\"text\" value=\"{{args.y::change}}\"></input>\n",
    "    Result: <span>{{res}}</span>\n",
    "</template>"
   ]
  },
  {
   "cell_type": "markdown",
   "metadata": {},
   "source": [
    "#### DataFrame return value"
   ]
  },
  {
   "cell_type": "code",
   "execution_count": null,
   "metadata": {
    "collapsed": true
   },
   "outputs": [],
   "source": [
    "val sqlContext = new org.apache.spark.sql.SQLContext(sc)\n",
    "import sqlContext.implicits._\n",
    "import org.apache.spark.sql.DataFrame\n",
    "\n",
    "def dfFunc(x: Int): DataFrame = {\n",
    "    val seq = (0 until x).map(i => (i, i)).toSeq\n",
    "    sqlContext.createDataFrame(seq)\n",
    "}"
   ]
  },
  {
   "cell_type": "code",
   "execution_count": null,
   "metadata": {
    "collapsed": false
   },
   "outputs": [],
   "source": [
    "%%html\n",
    "<template is=\"dom-bind\">\n",
    "<urth-core-function ref=\"dfFunc\" arg-x=\"{{x}}\" result='{{res}}' limit=\"10\" auto></urth-core-function>\n",
    "    <label>x:</label><paper-slider min=\"0\" max=\"20\" step=\"1\" value=\"{{x}}\"></paper-slider><span>{{x}}</span><br>\n",
    "    <label>columns:</label><span>{{res.columns}}</span> <br/>\n",
    "    <label>index:</label><span>{{res.index}}</span> <br/>\n",
    "    <label>data:</label><span>{{res.data}}</span>\n",
    "</template>"
   ]
  },
  {
   "cell_type": "markdown",
   "metadata": {},
   "source": [
    "### DataFrame widget"
   ]
  },
  {
   "cell_type": "code",
   "execution_count": null,
   "metadata": {
    "collapsed": true
   },
   "outputs": [],
   "source": [
    "val seq = (0 until 10000).map(i => (i, i)).toSeq\n",
    "val largeDataFrame = sqlContext.createDataFrame(seq)"
   ]
  },
  {
   "cell_type": "code",
   "execution_count": null,
   "metadata": {
    "collapsed": false
   },
   "outputs": [],
   "source": [
    "%%html\n",
    "<template is=\"dom-bind\">\n",
    "    <urth-core-dataframe ref=\"largeDataFrame\" limit=\"10\" value=\"{{x}}\"></urth-core-dataframe>\n",
    "    <p>Columns: <span>{{x.columns}}</span></p>\n",
    "    <p>Index: <span>{{x.index}}</span></p>\n",
    "    <p>Data:</p>\n",
    "    <template is=\"dom-repeat\" items=\"{{x.data}}\">\n",
    "        <span>{{item}}</span><br/>\n",
    "    </template>\n",
    "</template>"
   ]
  },
  {
   "cell_type": "code",
   "execution_count": null,
   "metadata": {
    "collapsed": true
   },
   "outputs": [],
   "source": [
    "case class Contact(firstname: String, lastname: String, title: String, email: String, phone: String, web: String)"
   ]
  },
  {
   "cell_type": "code",
   "execution_count": null,
   "metadata": {
    "collapsed": true
   },
   "outputs": [],
   "source": [
    "val contacts = sqlContext.createDataFrame(Seq(\n",
    "    Contact(\"Jane\", \"Doe\",\"Scala Developer\", \"jane@ibm.com\", \"123-432-5431\", \"http://www.ibm.com/jane\"), \n",
    "    Contact(\"John\", \"Doe\",\"Spark Engineer\", \"john@ibm.com\", \"143-421-5411\", \"http://www.ibm.com/john\"),\n",
    "    Contact(\"Joe\", \"Smith\",\"Product Manager\", \"joe@ibm.com\", \"123-732-8421\", \"http://www.ibm.com/joe\")))"
   ]
  },
  {
   "cell_type": "code",
   "execution_count": null,
   "metadata": {
    "collapsed": false
   },
   "outputs": [],
   "source": [
    "%%html\n",
    "<template is=\"dom-bind\">\n",
    "    <urth-core-dataframe ref=\"contacts\" value=\"{{x}}\" auto></urth-core-dataframe>\n",
    "    \n",
    "    <template is=\"dom-repeat\" items=\"{{x.data}}\">\n",
    "      <div class=\"bcard\">\n",
    "        <div class=\"info\">\n",
    "            <div class=\"line full-name\"><span>{{item.0}}</span> <span>{{item.1}}</span></div>\n",
    "            <span class=\"line title\">{{item.2}}</span>\n",
    "            <span class=\"line phone-number\">{{item.3}}</span>\n",
    "            <span class=\"line email\">{{item.4}}</span>\n",
    "            <span class=\"line website\">{{item.5}}</span>\n",
    "        </div>\n",
    "        <div class=\"logo\"></div>\n",
    "      </div>\n",
    "    </template>\n",
    "</template>"
   ]
  },
  {
   "cell_type": "markdown",
   "metadata": {},
   "source": [
    "### Channels API\n",
    "\n",
    "Interact with `urth-core-bind` `channel` variables using the following API:"
   ]
  },
  {
   "cell_type": "markdown",
   "metadata": {},
   "source": [
    "#### Set Item"
   ]
  },
  {
   "cell_type": "code",
   "execution_count": null,
   "metadata": {
    "collapsed": false
   },
   "outputs": [],
   "source": [
    "%%html\n",
    "<template is='urth-core-bind' channel='a'>\n",
    "    <div>Hello from <span>{{user}}</span></div>\n",
    "    Name: <input value='{{user::input}}'></input>\n",
    "</template>"
   ]
  },
  {
   "cell_type": "code",
   "execution_count": null,
   "metadata": {
    "collapsed": true
   },
   "outputs": [],
   "source": [
    "import urth.widgets.WidgetChannels.channel"
   ]
  },
  {
   "cell_type": "code",
   "execution_count": null,
   "metadata": {
    "collapsed": false
   },
   "outputs": [],
   "source": [
    "channel(\"a\").set(\"user\", \"bea\")"
   ]
  },
  {
   "cell_type": "markdown",
   "metadata": {
    "collapsed": true
   },
   "source": [
    "#### Watch Item"
   ]
  },
  {
   "cell_type": "code",
   "execution_count": null,
   "metadata": {
    "collapsed": false
   },
   "outputs": [],
   "source": [
    "%%html\n",
    "<template is='urth-core-bind' channel='b'>\n",
    "    <p><span>{{x}}</span></p>\n",
    "    <span>{{y}}</span>\n",
    "</template>"
   ]
  },
  {
   "cell_type": "code",
   "execution_count": null,
   "metadata": {
    "collapsed": true
   },
   "outputs": [],
   "source": [
    "channel(\"b\").set(\"x\", \"bean\")"
   ]
  },
  {
   "cell_type": "markdown",
   "metadata": {},
   "source": [
    "Now we set up a watch handler for variable `x` on channel `b`. \n",
    "\n",
    "Note that the first argument is of type `Option`, since an `oldVal` may not be present."
   ]
  },
  {
   "cell_type": "code",
   "execution_count": null,
   "metadata": {
    "collapsed": false
   },
   "outputs": [],
   "source": [
    "val handler = (oldVal: Option[String], newVal: String) => \n",
    "    channel(\"b\").set(\"y\", s\"Hello from the kernel! old: ${oldVal.getOrElse(\"\")}, new: $newVal\")"
   ]
  },
  {
   "cell_type": "code",
   "execution_count": null,
   "metadata": {
    "collapsed": true
   },
   "outputs": [],
   "source": [
    "channel(\"b\").watch(\"x\", handler)"
   ]
  },
  {
   "cell_type": "code",
   "execution_count": null,
   "metadata": {
    "collapsed": true
   },
   "outputs": [],
   "source": [
    "channel(\"b\").set(\"x\", \"dean\")"
   ]
  },
  {
   "cell_type": "markdown",
   "metadata": {},
   "source": [
    "Handlers can be typed. `Seq` corresponds to JavaScript arrays and `Map` corresponds to JavaScript object.\n",
    "\n",
    "This example shows a handler that uses `Seq`:"
   ]
  },
  {
   "cell_type": "code",
   "execution_count": null,
   "metadata": {
    "collapsed": false
   },
   "outputs": [],
   "source": [
    "%%html\n",
    "<template is='urth-core-bind' channel='c'>\n",
    "    <p><span>{{x}}</span></p>\n",
    "    <span>{{y}}</span>\n",
    "</template>"
   ]
  },
  {
   "cell_type": "code",
   "execution_count": null,
   "metadata": {
    "collapsed": true
   },
   "outputs": [],
   "source": [
    "channel(\"c\").set(\"x\", List(0))"
   ]
  },
  {
   "cell_type": "code",
   "execution_count": null,
   "metadata": {
    "collapsed": true
   },
   "outputs": [],
   "source": [
    "val handler = (oldVal: Option[Seq[Int]], newVal: Seq[Int]) => \n",
    "    channel(\"c\").set(\"y\", s\"Hello from the kernel! old: ${oldVal.getOrElse(None)}, new: $newVal\")"
   ]
  },
  {
   "cell_type": "code",
   "execution_count": null,
   "metadata": {
    "collapsed": true
   },
   "outputs": [],
   "source": [
    "channel(\"c\").watch(\"x\", handler)"
   ]
  },
  {
   "cell_type": "code",
   "execution_count": null,
   "metadata": {
    "collapsed": true
   },
   "outputs": [],
   "source": [
    "channel(\"c\").set(\"x\", List(0, 1, 2))"
   ]
  },
  {
   "cell_type": "code",
   "execution_count": null,
   "metadata": {
    "collapsed": true
   },
   "outputs": [],
   "source": []
  }
 ],
 "metadata": {
  "kernelspec": {
   "display_name": "Scala 2.10.4",
   "language": "scala",
   "name": "scala"
  },
  "language_info": {
   "name": "scala"
  }
 },
 "nbformat": 4,
 "nbformat_minor": 0
}
