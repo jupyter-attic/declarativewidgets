{
 "cells": [
  {
   "cell_type": "markdown",
   "metadata": {},
   "source": [
    "### urth-core-function Examples"
   ]
  },
  {
   "cell_type": "markdown",
   "metadata": {},
   "source": [
    "#### Import dependencies"
   ]
  },
  {
   "cell_type": "code",
   "execution_count": null,
   "metadata": {
    "collapsed": true
   },
   "outputs": [],
   "source": [
    "%%html\n",
    "<link rel='import' href='urth_components/paper-slider/paper-slider.html'\n",
    "        is='urth-core-import' package='PolymerElements/paper-slider'>"
   ]
  },
  {
   "cell_type": "code",
   "execution_count": null,
   "metadata": {
    "collapsed": true
   },
   "outputs": [],
   "source": [
    "%matplotlib inline\n",
    "from __future__ import print_function # For py 2.7 compat\n",
    "\n",
    "from IPython.html import widgets # Widget definitions\n",
    "from IPython.display import display # Used to display widgets in the notebook\n",
    "\n",
    "import matplotlib.pyplot as plt\n",
    "import numpy as np\n",
    "import base64\n",
    "from io import BytesIO\n",
    "from IPython.core.display import display_png\n",
    "import pandas as pd"
   ]
  },
  {
   "cell_type": "markdown",
   "metadata": {},
   "source": [
    "### Example 1: Single parameter function"
   ]
  },
  {
   "cell_type": "markdown",
   "metadata": {},
   "source": [
    "Note that since all of the function's arguments are set and `auto` is set, the function will automatically invoke after the ```<urth-core-function>``` element is created, using the value held by the ```<paper-slider>```."
   ]
  },
  {
   "cell_type": "code",
   "execution_count": null,
   "metadata": {
    "collapsed": true
   },
   "outputs": [],
   "source": [
    "w = widgets.FloatSlider(value=0,min=0,max=200,step=1)\n",
    "display(w)"
   ]
  },
  {
   "cell_type": "code",
   "execution_count": null,
   "metadata": {
    "collapsed": false
   },
   "outputs": [],
   "source": [
    "def aFunction(x=50):\n",
    "    print(\"Hello World\")\n",
    "    w.value = x"
   ]
  },
  {
   "cell_type": "code",
   "execution_count": null,
   "metadata": {
    "collapsed": true
   },
   "outputs": [],
   "source": [
    "%%html\n",
    "<template is=\"dom-bind\">\n",
    "    <urth-core-function id=\"f1\" ref=\"aFunction\" arg-x=\"{{x}}\" auto></urth-core-function>\n",
    "    \n",
    "    <form onSubmit=\"return false;\">\n",
    "        <label>x:</label>\n",
    "        <input type=\"text\" value=\"{{x::change}}\"></input>\n",
    "    </form>\n",
    "    <paper-slider min=\"10\" max=\"100\" step=\"1\" value=\"{{x}}\"></paper-slider><span>{{x}}</span>\n",
    "</template>"
   ]
  },
  {
   "cell_type": "markdown",
   "metadata": {},
   "source": [
    "### Example 2: Multi parameter function"
   ]
  },
  {
   "cell_type": "code",
   "execution_count": null,
   "metadata": {
    "collapsed": false
   },
   "outputs": [],
   "source": [
    "w1 = widgets.FloatSlider(value=0, min=0, max=10, step=0.1)\n",
    "w2 = widgets.FloatSlider(value=0, min=0, max=10, step=0.1)\n",
    "\n",
    "display(w1)\n",
    "display(w2)"
   ]
  },
  {
   "cell_type": "code",
   "execution_count": null,
   "metadata": {
    "collapsed": false
   },
   "outputs": [],
   "source": [
    "def aFunctionWithTwoArgs(x, y):\n",
    "    print (\"x: {}\".format(x))\n",
    "    w1.value = x\n",
    "    print (\"y: {}\".format(y))\n",
    "    w2.value = y"
   ]
  },
  {
   "cell_type": "code",
   "execution_count": null,
   "metadata": {
    "collapsed": true
   },
   "outputs": [],
   "source": [
    "%%html\n",
    "<urth-core-function id=\"f2\" ref=\"aFunctionWithTwoArgs\" arg-x=\"0.5\" arg-y=\"4\"></urth-core-function>\n",
    "<button onClick=\"f2.invoke()\">invoke</button>"
   ]
  },
  {
   "cell_type": "markdown",
   "metadata": {},
   "source": [
    "### Example 3: Function with optional argument"
   ]
  },
  {
   "cell_type": "code",
   "execution_count": null,
   "metadata": {
    "collapsed": false
   },
   "outputs": [],
   "source": [
    "w3 = widgets.FloatSlider(value=0, min=0, max=10, step=0.1)\n",
    "w4 = widgets.FloatSlider(value=0, min=0, max=10, step=0.1)\n",
    "\n",
    "display(w3)\n",
    "display(w4)"
   ]
  },
  {
   "cell_type": "code",
   "execution_count": null,
   "metadata": {
    "collapsed": false
   },
   "outputs": [],
   "source": [
    "def aFunctionWithOptionalArgs(x, y=4):\n",
    "    print (\"x: {}\".format(x))\n",
    "    w3.value = x\n",
    "    print (\"y: {}\".format(y))\n",
    "    w4.value = y"
   ]
  },
  {
   "cell_type": "code",
   "execution_count": null,
   "metadata": {
    "collapsed": true
   },
   "outputs": [],
   "source": [
    "%%html\n",
    "<urth-core-function id=\"f3\" ref=\"aFunctionWithOptionalArgs\" arg-x=\"0.5\"></urth-core-function>\n",
    "<button onClick=\"f3.invoke()\">invoke</button>"
   ]
  },
  {
   "cell_type": "markdown",
   "metadata": {},
   "source": [
    "### Example 4a: Using the 'args' property without 'auto'\n",
    "Changing the values in the input boxes with not invoke the function. Must click `invoke` button to call the function. Notice also that the button will not work unless the function is ready to invoke. This is `true` when the signature of the function is known and all required parameters are set."
   ]
  },
  {
   "cell_type": "code",
   "execution_count": null,
   "metadata": {
    "collapsed": true
   },
   "outputs": [],
   "source": [
    "w5 = widgets.FloatSlider(value=0, min=0, max=10, step=0.1)\n",
    "w6 = widgets.FloatSlider(value=0, min=0, max=10, step=0.1)\n",
    "\n",
    "display(w5)\n",
    "display(w6)"
   ]
  },
  {
   "cell_type": "code",
   "execution_count": null,
   "metadata": {
    "collapsed": false
   },
   "outputs": [],
   "source": [
    "def aFunctionWithOptionalArgs2(x, y=4):\n",
    "    print (\"x: {}\".format(x))\n",
    "    w5.value = x\n",
    "    print (\"y: {}\".format(y))\n",
    "    w6.value = y"
   ]
  },
  {
   "cell_type": "code",
   "execution_count": null,
   "metadata": {
    "collapsed": true
   },
   "outputs": [],
   "source": [
    "%%html\n",
    "<template is=\"dom-bind\">\n",
    "    <urth-core-function id=\"f4a\" ref=\"aFunctionWithOptionalArgs2\" is-ready=\"{{isready}}\" args=\"{{args}}\"></urth-core-function>\n",
    "    x: <input type=\"text\" value=\"{{args.x::change}}\"></input>\n",
    "    y: <input type=\"text\" value=\"{{args.y::change}}\"></input>\n",
    "    <button disabled={{!isready}} onClick=\"f4a.invoke()\">invoke</button>\n",
    "    Ready: <span>{{isready}}</span>\n",
    "</template>"
   ]
  },
  {
   "cell_type": "markdown",
   "metadata": {},
   "source": [
    "### Example 4b: Using the 'args' property with 'auto'\n",
    "Changing the values on the input boxes and pressing enter or focusing out, will invoke the funtion automatically."
   ]
  },
  {
   "cell_type": "code",
   "execution_count": null,
   "metadata": {
    "collapsed": true
   },
   "outputs": [],
   "source": [
    "%%html\n",
    "<template is=\"dom-bind\">\n",
    "    <urth-core-function id=\"f4b\" ref=\"aFunctionWithOptionalArgs2\" args=\"{{args}}\" auto></urth-core-function>\n",
    "    x: <input type=\"text\" value=\"{{args.x::change}}\"></input>\n",
    "    y: <input type=\"text\" value=\"{{args.y::change}}\"></input>\n",
    "</template>"
   ]
  },
  {
   "cell_type": "markdown",
   "metadata": {},
   "source": [
    "### Example 5a: Using a function's return value"
   ]
  },
  {
   "cell_type": "code",
   "execution_count": null,
   "metadata": {
    "collapsed": false
   },
   "outputs": [],
   "source": [
    "def aMathFunction(x=0):\n",
    "    return \"hello: \" + str(x*200)"
   ]
  },
  {
   "cell_type": "code",
   "execution_count": null,
   "metadata": {
    "collapsed": true
   },
   "outputs": [],
   "source": [
    "%%html\n",
    "<template is=\"dom-bind\">\n",
    "    <urth-core-function id=\"f5\" ref=\"aMathFunction\" arg-x=\"{{x}}\" result=\"{{y}}\" auto></urth-core-function>\n",
    "    <paper-slider min=\"0\" max=\"100\" step=\"1\" value=\"{{x}}\"></paper-slider>\n",
    "    <span>{{y}}</span>\n",
    "</template>"
   ]
  },
  {
   "cell_type": "markdown",
   "metadata": {
    "collapsed": true
   },
   "source": [
    "### Example 5b: Function returning a Plot\n",
    "\n",
    "The `matplotlib.pyplot.Figure` object returned by the plot function will get automatically serialized into a base64 image string."
   ]
  },
  {
   "cell_type": "markdown",
   "metadata": {},
   "source": [
    "<div class=\"alert alert-info\" role=\"alert\" style=\"margin-top: 10px\">\n",
    "<p><strong>Note:</strong> This example requires Python 3+.</p>\n",
    "</div>"
   ]
  },
  {
   "cell_type": "code",
   "execution_count": null,
   "metadata": {
    "collapsed": false
   },
   "outputs": [],
   "source": [
    "def aPlotFunction(noise=2.5):  \n",
    "    fig = plt.figure()\n",
    "    plt.scatter(\n",
    "        np.arange(0, 10, 0.1), \n",
    "        [y + np.random.normal(scale=1e-10+float(noise)) for y in np.arange(0, 10, 0.1)]\n",
    "    )\n",
    "    return fig"
   ]
  },
  {
   "cell_type": "code",
   "execution_count": null,
   "metadata": {
    "collapsed": true
   },
   "outputs": [],
   "source": [
    "%%html\n",
    "<template is=\"dom-bind\">\n",
    "    <urth-core-function id=\"f5b\" ref=\"aPlotFunction\" arg-noise=\"{{noise}}\" result=\"{{plot}}\" auto></urth-core-function>\n",
    "    \n",
    "    noise<paper-slider min=\"0\" max=\"5\" step=\"0.5\" value=\"{{noise}}\"></paper-slider>\n",
    "    \n",
    "    <img src={{plot}}>\n",
    "</template>"
   ]
  },
  {
   "cell_type": "markdown",
   "metadata": {},
   "source": [
    "### Example 5c: Function returning a pandas DataFrame"
   ]
  },
  {
   "cell_type": "code",
   "execution_count": null,
   "metadata": {
    "collapsed": false
   },
   "outputs": [],
   "source": [
    "import pandas as pd\n",
    "import numpy as np\n",
    "def aDataFrameFunction(rows, cols):  \n",
    "    data = [np.arange(0, int(cols), 1) for x in range(int(rows))]\n",
    "    df = pd.DataFrame(data)\n",
    "    return df"
   ]
  },
  {
   "cell_type": "code",
   "execution_count": null,
   "metadata": {
    "collapsed": true
   },
   "outputs": [],
   "source": [
    "%%html\n",
    "<template is=\"dom-bind\">\n",
    "    <urth-core-function id=\"f5c\" ref=\"aDataFrameFunction\" arg-rows=\"{{rows}}\" arg-cols=\"{{cols}}\" result=\"{{df}}\"></urth-core-function>\n",
    "    \n",
    "    rows<paper-slider min=\"1\" max=\"10\" step=\"1\" value=\"{{rows}}\"></paper-slider>\n",
    "    cols<paper-slider min=\"1\" max=\"10\" step=\"1\" value=\"{{cols}}\"></paper-slider>\n",
    "    <button onClick=\"f5c.invoke()\">invoke</button>\n",
    "    \n",
    "    <p>columns: <span>{{df.columns}}</span></p>\n",
    "    <p>index: <span>{{df.index}}</span></p>\n",
    "    <p>data: <span>{{df.data}}</span></p>\n",
    "</template>"
   ]
  },
  {
   "cell_type": "markdown",
   "metadata": {},
   "source": [
    "### Example 5d: Function returning a Spark Dataframe"
   ]
  },
  {
   "cell_type": "code",
   "execution_count": null,
   "metadata": {
    "collapsed": true
   },
   "outputs": [],
   "source": [
    "import pyspark\n",
    "sc = pyspark.SparkContext('local[*]')\n",
    "sqlContext = pyspark.SQLContext(sc)"
   ]
  },
  {
   "cell_type": "code",
   "execution_count": null,
   "metadata": {
    "collapsed": false
   },
   "outputs": [],
   "source": [
    "def aSparkDataFrameFunction(rows, cols):  \n",
    "    data = [np.arange(0, int(cols), 1) for x in range(int(rows))]\n",
    "    df = pd.DataFrame(data)\n",
    "    return sqlContext.createDataFrame(df)"
   ]
  },
  {
   "cell_type": "code",
   "execution_count": null,
   "metadata": {
    "collapsed": true
   },
   "outputs": [],
   "source": [
    "%%html\n",
    "<template is=\"dom-bind\">\n",
    "    <urth-core-function id=\"f5d\" ref=\"aSparkDataFrameFunction\" limit=\"3\" arg-rows=\"{{rows}}\" arg-cols=\"{{cols}}\" result=\"{{df}}\"></urth-core-function>\n",
    "    \n",
    "    rows<paper-slider min=\"1\" max=\"10\" step=\"1\" value=\"{{rows}}\"></paper-slider>\n",
    "    cols<paper-slider min=\"1\" max=\"10\" step=\"1\" value=\"{{cols}}\"></paper-slider>\n",
    "    <button onClick=\"f5d.invoke()\">invoke</button>\n",
    "    \n",
    "    <p>columns: <span>{{df.columns}}</span></p>\n",
    "    <p>index: <span>{{df.index}}</span></p>\n",
    "    <p>data: <span>{{df.data}}</span></p>\n",
    "</template>"
   ]
  },
  {
   "cell_type": "markdown",
   "metadata": {},
   "source": [
    "### Example 5e: Function returning a custom class. Defining a custom serializer\n",
    "\n",
    "In this example, we have a function that returns a custom type `Foo`. We would like to serialize the `Foo` that's returned so that the value is useful for other widgets."
   ]
  },
  {
   "cell_type": "code",
   "execution_count": null,
   "metadata": {
    "collapsed": false
   },
   "outputs": [],
   "source": [
    "class Foo:\n",
    "    def foo(self):\n",
    "        return \"This is a Foo.\""
   ]
  },
  {
   "cell_type": "markdown",
   "metadata": {},
   "source": [
    "Now define the custom serializer for Foo by implementing the BaseSerializer methods.\n",
    "\n",
    "For our `serialize` method, we'll call `foo()`:"
   ]
  },
  {
   "cell_type": "code",
   "execution_count": null,
   "metadata": {
    "collapsed": false
   },
   "outputs": [],
   "source": [
    "import urth.util.serializers"
   ]
  },
  {
   "cell_type": "code",
   "execution_count": null,
   "metadata": {
    "collapsed": true
   },
   "outputs": [],
   "source": [
    "class FooSerializer(urth.util.serializers.BaseSerializer):\n",
    "    @staticmethod\n",
    "    def klass():\n",
    "        return Foo\n",
    "\n",
    "    @staticmethod\n",
    "    def serialize(obj, **kwargs):\n",
    "        return obj.foo()\n",
    "\n",
    "    @staticmethod\n",
    "    def check_packages():\n",
    "        return True"
   ]
  },
  {
   "cell_type": "code",
   "execution_count": null,
   "metadata": {
    "collapsed": false
   },
   "outputs": [],
   "source": [
    "def aFooFunction():\n",
    "    f = Foo()\n",
    "    return f"
   ]
  },
  {
   "cell_type": "markdown",
   "metadata": {},
   "source": [
    "Now when we invoke, the function will return the `Foo` instance, and we'll see the serialized return value:"
   ]
  },
  {
   "cell_type": "code",
   "execution_count": null,
   "metadata": {
    "collapsed": true
   },
   "outputs": [],
   "source": [
    "%%html\n",
    "<template is=\"dom-bind\">\n",
    "    <urth-core-function id=\"f5e\" ref=\"aFooFunction\" result=\"{{r}}\"></urth-core-function>\n",
    "    <button onClick=\"f5e.invoke()\">invoke</button>    \n",
    "    <span>{{r}}</span>\n",
    "</template>"
   ]
  },
  {
   "cell_type": "markdown",
   "metadata": {
    "collapsed": true
   },
   "source": [
    "### Example 6: Automatically converting arguments to correct types\n",
    "\n",
    "The frontend sends argument values as strings. The backend will convert the\n",
    "arguments to their proper types if possible. Argument types can be indicated by:\n",
    "1. Providing a **default argument**. The argument type will then be the type of the default argument. \n",
    "2. Providing an **annotation** that evaluates to the argument type"
   ]
  },
  {
   "cell_type": "markdown",
   "metadata": {},
   "source": [
    "#### Example 6a: Default Argument\n",
    "\n",
    "`iters` will be considered an `int` and `x` will be considered a `float` based on the default arguments. Since there is no default or annotation for `msg`, it will not be converted."
   ]
  },
  {
   "cell_type": "code",
   "execution_count": null,
   "metadata": {
    "collapsed": true
   },
   "outputs": [],
   "source": [
    "def aMathFunction2(msg, iters=5, x=0.50):\n",
    "    total = 0.0\n",
    "    for i in range(iters):\n",
    "        total = total + (x * 3.14159) #no longer need to convert x\n",
    "    return \"{}: {}\".format(msg, total)"
   ]
  },
  {
   "cell_type": "code",
   "execution_count": null,
   "metadata": {
    "collapsed": true
   },
   "outputs": [],
   "source": [
    "%%html\n",
    "<template is=\"dom-bind\">\n",
    "    <urth-core-function id=\"f6a\" ref=\"aMathFunction2\" arg-msg=\"the output is\" arg-iters=\"{{iters}}\" arg-x=\"{{x}}\" result=\"{{y}}\" auto></urth-core-function>\n",
    "    iters: <paper-slider min=\"0\" max=\"10\" step=\"1\" value=\"{{iters}}\"></paper-slider>\n",
    "    x: <paper-slider min=\"0\" max=\"10\" step=\"0.1\" value=\"{{x}}\"></paper-slider>\n",
    "    <p>{{y}}</p>\n",
    "</template>"
   ]
  },
  {
   "cell_type": "markdown",
   "metadata": {},
   "source": [
    "#### Example 6b: Annotation\n",
    "\n",
    "`iters` will be considered an int and `x` will be considered a `float` based on annotations"
   ]
  },
  {
   "cell_type": "markdown",
   "metadata": {},
   "source": [
    "<div class=\"alert alert-info\" role=\"alert\" style=\"margin-top: 10px\">\n",
    "<p><strong>Note:</strong> This example requires Python 3+.</p>\n",
    "</div>"
   ]
  },
  {
   "cell_type": "code",
   "execution_count": null,
   "metadata": {
    "collapsed": true
   },
   "outputs": [],
   "source": [
    "def aMathFunction3(iters: int, x: float):\n",
    "    total = 0.0\n",
    "    for i in range(iters):\n",
    "        total = total + (x * 3.14159)\n",
    "    return total"
   ]
  },
  {
   "cell_type": "code",
   "execution_count": null,
   "metadata": {
    "collapsed": true
   },
   "outputs": [],
   "source": [
    "%%html\n",
    "<template is=\"dom-bind\">\n",
    "    <urth-core-function id=\"f6b\" ref=\"aMathFunction3\" arg-iters=\"{{iters}}\" arg-x=\"{{x}}\" result=\"{{y}}\" auto></urth-core-function>\n",
    "    iters: <paper-slider min=\"0\" max=\"10\" step=\"1\" value=\"{{iters}}\"></paper-slider>\n",
    "    x: <paper-slider min=\"0\" max=\"10\" step=\"0.1\" value=\"{{x}}\"></paper-slider>\n",
    "    <p>{{y}}</p>\n",
    "</template>"
   ]
  },
  {
   "cell_type": "markdown",
   "metadata": {
    "collapsed": true
   },
   "source": [
    "### Example 7: Debounce function invocation\n",
    "When using auto, there may be the need to debounce the invocation of a function. This can facilitate waiting for users to complete input or protect against multiple accidental/malicious invocations in a short time frame. \n",
    "\n",
    "The example below has a function which will return the number of times it is invoked. The `urth-core-function` element has a debounce time of `2000` milliseconds which will prevent multiple invocations when rapidly pressing the _Invoke Function_ button."
   ]
  },
  {
   "cell_type": "code",
   "execution_count": null,
   "metadata": {
    "collapsed": false
   },
   "outputs": [],
   "source": [
    "def aDebouncedFunction1():\n",
    "    aDebouncedFunction1.counter += 1\n",
    "    return aDebouncedFunction1.counter\n",
    "\n",
    "aDebouncedFunction1.counter = 0"
   ]
  },
  {
   "cell_type": "code",
   "execution_count": null,
   "metadata": {
    "collapsed": true
   },
   "outputs": [],
   "source": [
    "%%html\n",
    "<template is=\"dom-bind\">\n",
    "    <urth-core-function id=\"f7\" ref=\"aDebouncedFunction1\" delay='2000' result=\"{{invocations}}\" auto></urth-core-function>\n",
    "    <button onclick='f7.invoke()'>Invoke Function</button>\n",
    "    <p>Inovocations: <span>{{invocations}}</span></p>\n",
    "</template>"
   ]
  }
 ],
 "metadata": {
  "cell_tags": [
   [
    "<None>",
    null
   ]
  ],
  "kernelspec": {
   "display_name": "Python 3",
   "language": "python",
   "name": "python3"
  },
  "language_info": {
   "codemirror_mode": {
    "name": "ipython",
    "version": 3
   },
   "file_extension": ".py",
   "mimetype": "text/x-python",
   "name": "python",
   "nbconvert_exporter": "python",
   "pygments_lexer": "ipython3",
   "version": "3.4.3"
  }
 },
 "nbformat": 4,
 "nbformat_minor": 0
}
