{
 "cells": [
  {
   "cell_type": "markdown",
   "metadata": {},
   "source": [
    "### Initialize Declarativewidgets"
   ]
  },
  {
   "cell_type": "code",
   "execution_count": null,
   "metadata": {
    "collapsed": false
   },
   "outputs": [],
   "source": [
    "library(\"declarativewidgets\")"
   ]
  },
  {
   "cell_type": "code",
   "execution_count": null,
   "metadata": {
    "collapsed": false
   },
   "outputs": [],
   "source": [
    "initWidgets()"
   ]
  },
  {
   "cell_type": "markdown",
   "metadata": {},
   "source": [
    "Import Polymer elements:"
   ]
  },
  {
   "cell_type": "code",
   "execution_count": null,
   "metadata": {
    "collapsed": false
   },
   "outputs": [],
   "source": [
    "IRdisplay::display_html(\"\n",
    "<link rel='import' href='urth_components/paper-slider/paper-slider.html'\n",
    "        is='urth-core-import' package='PolymerElements/paper-slider'>\n",
    "<link rel='import' href='urth_components/urth-viz-table/urth-viz-table.html'\n",
    "        is='urth-core-import'>\n",
    "<link rel='stylesheet' type='text/css' href='bcard.css'>\n",
    "<link rel='import' href='urth_components/urth-viz-pie/urth-viz-pie.html' is='urth-core-import'>\n",
    "\")"
   ]
  },
  {
   "cell_type": "markdown",
   "metadata": {},
   "source": [
    "### Function widget"
   ]
  },
  {
   "cell_type": "code",
   "execution_count": null,
   "metadata": {
    "collapsed": false
   },
   "outputs": [],
   "source": [
    "math = function(x=10,y) {return (x*y)}"
   ]
  },
  {
   "cell_type": "code",
   "execution_count": null,
   "metadata": {
    "collapsed": false
   },
   "outputs": [],
   "source": [
    "IRdisplay::display_html(\"\n",
    "<template is='dom-bind'>\n",
    "<urth-core-function ref='math' arg-x='{{x}}' arg-y='{{y}}' result='{{res}}' auto></urth-core-function>\n",
    "    <label>x:</label><paper-slider min='10' max='100' step='1' value='{{x}}'></paper-slider><span>{{x}}</span><br>\n",
    "    <label>y:</label><paper-slider min='1' max='100' step='1' value='{{y}}'></paper-slider><span>{{y}}</span><br>\n",
    "Result: <span>{{res}}</span>\n",
    "</template>\n",
    "\")"
   ]
  },
  {
   "cell_type": "markdown",
   "metadata": {},
   "source": [
    "### Channels"
   ]
  },
  {
   "cell_type": "markdown",
   "metadata": {},
   "source": [
    "#### Setting data in a channel"
   ]
  },
  {
   "cell_type": "code",
   "execution_count": null,
   "metadata": {
    "collapsed": false
   },
   "outputs": [],
   "source": [
    "IRdisplay::display_html(\"\n",
    "<template is='urth-core-bind' channel='a'>\n",
    "    <div>Hello from <span>{{user}}</span></div>\n",
    "</template>\n",
    "\")"
   ]
  },
  {
   "cell_type": "code",
   "execution_count": null,
   "metadata": {
    "collapsed": false
   },
   "outputs": [],
   "source": [
    "channel(\"a\")$set(\"user\", \"mike p\")"
   ]
  },
  {
   "cell_type": "markdown",
   "metadata": {},
   "source": [
    "#### Watching data in a channel"
   ]
  },
  {
   "cell_type": "code",
   "execution_count": null,
   "metadata": {
    "collapsed": false
   },
   "outputs": [],
   "source": [
    "IRdisplay::display_html(\"\n",
    "<template is='urth-core-bind' channel='a'>\n",
    "    Name: <input value='{{user::input}}'></input>\n",
    "    <p>\n",
    "        <span>{{msg}}</span>\n",
    "    </p>\n",
    "</template>\n",
    "\")"
   ]
  },
  {
   "cell_type": "code",
   "execution_count": null,
   "metadata": {
    "collapsed": true
   },
   "outputs": [],
   "source": [
    "handler <- function(old_val, new_val) {\n",
    "    print(\"in handler\")\n",
    "    print(old_val)\n",
    "    print(new_val)\n",
    "    channel(\"a\")$set(\"msg\", paste(\"Watch triggers for new value {\",new_val,\"}, and old value {\",old_val,\"}.\"))\n",
    "}"
   ]
  },
  {
   "cell_type": "code",
   "execution_count": null,
   "metadata": {
    "collapsed": false
   },
   "outputs": [],
   "source": [
    "channel(\"a\")$watch(\"user\", handler)"
   ]
  },
  {
   "cell_type": "markdown",
   "metadata": {
    "collapsed": true
   },
   "source": [
    "### DataFrame widget"
   ]
  },
  {
   "cell_type": "code",
   "execution_count": null,
   "metadata": {
    "collapsed": false
   },
   "outputs": [],
   "source": [
    "First_Name <- c(\"John\", \"Jane\", \"Joe\")\n",
    "Last_Name <- c(\"Johnson\", \"Doe\", \"Smith\")\n",
    "Role <- c(\"Web Developer\", \"Software Engineer\", \"Rockstar Dev\")\n",
    "Amount <- c(\"500\", \"456\", \"4526\")\n",
    "Bigger_Number <- c(\"1234325431\", \"1434215411\", \"1237328421\")\n",
    "Website <- c(\"http://javi.er\", \"http://www.ibm.us\", \"http://cooldevs.org/xavier\")\n",
    "aDataFrame <- data.frame(First_Name, Last_Name, Role, Amount, Bigger_Number, Website)"
   ]
  },
  {
   "cell_type": "code",
   "execution_count": null,
   "metadata": {
    "collapsed": false
   },
   "outputs": [],
   "source": [
    "IRdisplay::display_html(\"\n",
    "<template id='foo' is='dom-bind'>\n",
    "    <urth-core-dataframe ref='aDataFrame' limit='10' value='{{x}}'></urth-core-dataframe>\n",
    "    <urth-viz-pie primary='0' secondary='3'datarows='{{ x.data }}' columns='{{ x.columns }}'></urth-viz-pie>\n",
    "\n",
    "    <urth-viz-table datarows='{{ x.data }}' selection='{{sel}}' columns='{{ x.columns }}' selection-as-object>\n",
    "        <urth-viz-col index='4' format='$0,0.00' type='numeric'></urth-viz-col>\n",
    "        <urth-viz-col index='3' format='$0,0.0' type='numeric'></urth-viz-col>\n",
    "    </urth-viz-table>\n",
    "\n",
    "    <div class='bcard'>\n",
    "        <div class='info'>\n",
    "            <div class='line full-name'><span>{{sel.First_Name}}</span> <span>{{sel.Last_Name}}</span></div>\n",
    "            <span class='line title'>{{sel.Role}}</span>\n",
    "            <span class='line phone-number'>{{sel.Amount}}</span>\n",
    "            <span class='line email'>{{sel.Bigger_Number}}</span>\n",
    "            <span class='line website'>{{sel.Website}}</span>\n",
    "        </div>\n",
    "        <div class='logo'></div>\n",
    "    </div>\n",
    "</template>\n",
    "\")"
   ]
  }
 ],
 "metadata": {
  "kernelspec": {
   "display_name": "R",
   "language": "R",
   "name": "ir"
  },
  "language_info": {
   "codemirror_mode": "r",
   "file_extension": ".r",
   "mimetype": "text/x-r-source",
   "name": "R",
   "pygments_lexer": "r",
   "version": "3.2.2"
  }
 },
 "nbformat": 4,
 "nbformat_minor": 0
}
