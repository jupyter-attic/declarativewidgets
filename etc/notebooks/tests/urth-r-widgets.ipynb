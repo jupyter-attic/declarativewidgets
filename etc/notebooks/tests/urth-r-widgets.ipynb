{
 "cells": [
  {
   "cell_type": "markdown",
   "metadata": {},
   "source": [
    "### Initialize Declarativewidgets"
   ]
  },
  {
   "cell_type": "code",
   "execution_count": null,
   "metadata": {
    "collapsed": false
   },
   "outputs": [],
   "source": [
    "library(\"declarativewidgets\")"
   ]
  },
  {
   "cell_type": "code",
   "execution_count": null,
   "metadata": {
    "collapsed": false
   },
   "outputs": [],
   "source": [
    "initWidgets()"
   ]
  },
  {
   "cell_type": "markdown",
   "metadata": {},
   "source": [
    "Import Polymer elements:"
   ]
  },
  {
   "cell_type": "code",
   "execution_count": null,
   "metadata": {
    "collapsed": false
   },
   "outputs": [],
   "source": [
    "IRdisplay::display_html(\"\n",
    "<link rel='import' href='urth_components/paper-slider/paper-slider.html'\n",
    "        is='urth-core-import' package='PolymerElements/paper-slider'>\n",
    "<link rel='import' href='urth_components/urth-viz-table/urth-viz-table.html'\n",
    "        is='urth-core-import'>\n",
    "<link rel='stylesheet' type='text/css' href='bcard.css'>\n",
    "<link rel='import' href='urth_components/urth-viz-pie/urth-viz-pie.html' is='urth-core-import'>\n",
    "\")"
   ]
  },
  {
   "cell_type": "markdown",
   "metadata": {},
   "source": [
    "### Function widget"
   ]
  },
  {
   "cell_type": "code",
   "execution_count": null,
   "metadata": {
    "collapsed": false
   },
   "outputs": [],
   "source": [
    "math = function(x, y) {return (x*y)}"
   ]
  },
  {
   "cell_type": "code",
   "execution_count": null,
   "metadata": {
    "collapsed": false
   },
   "outputs": [],
   "source": [
    "IRdisplay::display_html(\"\n",
    "<template is='dom-bind'>\n",
    "<urth-core-function ref='math' arg-x='{{x}}' arg-y='{{y}}' result='{{res}}' auto></urth-core-function>\n",
    "    <label>x:</label><paper-slider min='10' max='100' step='1' value='{{x}}'></paper-slider><span>{{x}}</span><br>\n",
    "    <label>y:</label><paper-slider min='1' max='100' step='1' value='{{y}}'></paper-slider><span>{{y}}</span><br>\n",
    "Result: <span class='test1'>{{res}}</span>\n",
    "</template>\n",
    "\")"
   ]
  },
  {
   "cell_type": "markdown",
   "metadata": {},
   "source": [
    "### Channels"
   ]
  },
  {
   "cell_type": "markdown",
   "metadata": {},
   "source": [
    "#### Setting data in a channel"
   ]
  },
  {
   "cell_type": "code",
   "execution_count": null,
   "metadata": {
    "collapsed": false
   },
   "outputs": [],
   "source": [
    "IRdisplay::display_html(\"\n",
    "<template is='urth-core-bind' channel='a'>\n",
    "    <span class='test2'>{{user}}</span>\n",
    "</template>\n",
    "\")"
   ]
  },
  {
   "cell_type": "code",
   "execution_count": null,
   "metadata": {
    "collapsed": true
   },
   "outputs": [],
   "source": [
    "set_user <- function() {\n",
    "    channel(\"a\")$set(\"user\", \"mike\")\n",
    "}"
   ]
  },
  {
   "cell_type": "code",
   "execution_count": null,
   "metadata": {
    "collapsed": false
   },
   "outputs": [],
   "source": [
    "IRdisplay::display_html(\"\n",
    "<template is='urth-core-bind'>\n",
    "    <urth-core-function id='f' ref='set_user'></urth-core-function>\n",
    "    <button onClick='f.invoke()'>invoke</button><br/>\n",
    "</template>\n",
    "\")"
   ]
  },
  {
   "cell_type": "markdown",
   "metadata": {
    "collapsed": true
   },
   "source": [
    "### DataFrame widget"
   ]
  },
  {
   "cell_type": "code",
   "execution_count": null,
   "metadata": {
    "collapsed": false
   },
   "outputs": [],
   "source": [
    "First_Name <- c(\"John\", \"Jane\", \"Joe\")\n",
    "Last_Name <- c(\"Johnson\", \"Doe\", \"Smith\")\n",
    "Role <- c(\"Web Developer\", \"Software Engineer\", \"Rockstar Dev\")\n",
    "Amount <- c(\"500\", \"456\", \"4526\")\n",
    "Bigger_Number <- c(\"1234325431\", \"1434215411\", \"1237328421\")\n",
    "Website <- c(\"http://javi.er\", \"http://www.ibm.us\", \"http://cooldevs.org/xavier\")\n",
    "aDataFrame <- data.frame(First_Name, Last_Name, Role, Amount, Bigger_Number, Website)"
   ]
  },
  {
   "cell_type": "code",
   "execution_count": null,
   "metadata": {
    "collapsed": false
   },
   "outputs": [],
   "source": [
    "IRdisplay::display_html(\"\n",
    "    <template is='urth-core-bind'>\n",
    "        <urth-core-dataframe id='f3' ref='aDataFrame' value='{{df}}' auto></urth-core-dataframe>\n",
    "        <template is='dom-repeat' items='{{df.data}}'>\n",
    "          <div class='info'>\n",
    "                <span class='test3'>{{item.0}}</span>, <span>{{item.1}}</span>\n",
    "          </div>\n",
    "        </template>\n",
    "    </template>\n",
    "\")"
   ]
  },
  {
   "cell_type": "markdown",
   "metadata": {},
   "source": [
    "### Spark DataFrame widget"
   ]
  },
  {
   "cell_type": "code",
   "execution_count": null,
   "metadata": {
    "collapsed": false
   },
   "outputs": [],
   "source": [
    "library(SparkR)\n",
    "sc <- sparkR.init()\n",
    "sqlContext <- sparkRSQL.init(sc)\n",
    "sparkDataFrame <- createDataFrame(sqlContext, aDataFrame)"
   ]
  },
  {
   "cell_type": "code",
   "execution_count": null,
   "metadata": {
    "collapsed": false
   },
   "outputs": [],
   "source": [
    "IRdisplay::display_html(\"\n",
    "    <template is='urth-core-bind'>\n",
    "        <urth-core-dataframe id='f3' ref='aDataFrame' value='{{df}}' auto></urth-core-dataframe>\n",
    "        <template is='dom-repeat' items='{{df.data}}'>\n",
    "          <div class='info'>\n",
    "                <span class='test4'>{{item.0}}</span>, <span>{{item.1}}</span>\n",
    "          </div>\n",
    "        </template>\n",
    "    </template>\n",
    "\")"
   ]
  }
 ],
 "metadata": {
  "kernelspec": {
   "display_name": "R",
   "language": "R",
   "name": "ir"
  },
  "language_info": {
   "codemirror_mode": "r",
   "file_extension": ".r",
   "mimetype": "text/x-r-source",
   "name": "R",
   "pygments_lexer": "r",
   "version": "3.2.2"
  }
 },
 "nbformat": 4,
 "nbformat_minor": 0
}
